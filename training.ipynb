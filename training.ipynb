{
 "cells": [
  {
   "cell_type": "code",
   "execution_count": null,
   "metadata": {},
   "outputs": [],
   "source": [
    "# Necessary Imports\n",
    "import numpy as np\n",
    "import torch\n",
    "import torch.nn as nn\n",
    "import torch.nn.functional as F\n",
    "import torch.optim as optim\n",
    "from sklearn.preprocessing import normalize\n",
    "from sklearn.model_selection import train_test_split\n",
    "import pickle\n",
    "from torch.optim.lr_scheduler import StepLR\n",
    "\n",
    "# import data\n",
    "data = pickle.load(open(\"data.p\", \"rb\"))\n",
    "labels = pickle.load(open(\"labels.p\", \"rb\"))"
   ]
  },
  {
   "cell_type": "code",
   "execution_count": 3,
   "metadata": {},
   "outputs": [],
   "source": [
    "# normalize the data by feature\n",
    "\n",
    "for i in range(len(data[0])):\n",
    "    # Calculate the mean and std for each attribute\n",
    "    mean = np.mean(data[0:, i])\n",
    "    std = np.std(data[0:, i])\n",
    "    # subtract the mean and divide by the std for each attribute\n",
    "    for j in range(len(data[0:, i])):\n",
    "        data[j][i] -= mean\n",
    "        data[j][i] /= std\n",
    "        "
   ]
  },
  {
   "cell_type": "code",
   "execution_count": 4,
   "metadata": {},
   "outputs": [],
   "source": [
    "# split data into train and test\n",
    "train_data, test_data, train_labels, test_labels = train_test_split(data, labels, test_size=0.1, random_state=10)\n",
    "train_data = torch.from_numpy(train_data)\n",
    "test_data = torch.from_numpy(test_data)\n",
    "train_labels = torch.from_numpy(train_labels)\n",
    "test_labels = torch.from_numpy(test_labels)"
   ]
  },
  {
   "cell_type": "code",
   "execution_count": 23,
   "metadata": {},
   "outputs": [],
   "source": [
    "# Define the network architecture\n",
    "class Net(nn.Module):\n",
    "    def __init__(self):\n",
    "        super(Net, self).__init__()\n",
    "        self.fc1 = nn.Linear(64, 128)\n",
    "        self.dropout1 = nn.Dropout(0.8)\n",
    "        self.fc2 = nn.Linear(128, 16)\n",
    "        self.dropout2 = nn.Dropout(0.8)\n",
    "        self.fc3 = nn.Linear(16, 1)\n",
    "\n",
    "\n",
    "    def forward(self, x):\n",
    "        x = self.fc1(x)\n",
    "        x = F.relu(x)\n",
    "#        x = self.dropout1(x)\n",
    "        x = self.fc2(x)\n",
    "        x = F.relu(x)\n",
    "#        x = self.dropout2(x)\n",
    "        output = self.fc3(x)\n",
    "        return output"
   ]
  },
  {
   "cell_type": "code",
   "execution_count": 110,
   "metadata": {},
   "outputs": [],
   "source": [
    "epochs = 5\n",
    "batch_size = 1\n",
    "g = 0.7\n",
    "learn = 1.0\n",
    "\n",
    "def train(model, data, labels, device, optimizer, epoch, log_int):\n",
    "    model.train()\n",
    "    for i in range(0, int(len(data)/batch_size)):\n",
    "        inp = data[i*batch_size:(i+1)*batch_size].to(device).float()\n",
    "        target = labels[i*batch_size:(i+1)*batch_size].to(device).float()\n",
    "        optimizer.zero_grad()\n",
    "        out = model(inp)\n",
    "        loss = nn.L1Loss()(out, target.view(-1,1))\n",
    "        loss.backward()\n",
    "        optimizer.step()\n",
    "        if i % log_int == 0:\n",
    "            print('Train Epoch: ' + str(epoch) + ' | Loss: ' + str(loss.item()))\n",
    "def test(model, data, labels, device):\n",
    "    model.eval()\n",
    "    test_loss = 0\n",
    "    with torch.no_grad():\n",
    "        for i in range(0, int(len(data))):\n",
    "            inp = data[i].to(device).float()\n",
    "            target = labels[i].to(device).float()\n",
    "            output = model(inp)\n",
    "            test_loss += nn.L1Loss()(output, target.view(1))\n",
    "    print(\"Test loss: \" + str(test_loss / len(data)))\n",
    "        # For each entry in the test data set\n",
    "            # Run the entry through and add the loss to our total loss\n",
    "        # Divide by the total length to get the average error\n",
    "\n",
    "if torch.cuda.is_available():\n",
    "    device = torch.device(\"cuda\")\n",
    "else:\n",
    "    device = torch.device(\"cpu\")\n",
    "model = Net().to(device)\n",
    "optimizer = optim.Adadelta(model.parameters(), lr=learn)\n",
    "scheduler = StepLR(optimizer, step_size=1, gamma=g)"
   ]
  },
  {
   "cell_type": "code",
   "execution_count": 113,
   "metadata": {},
   "outputs": [
    {
     "name": "stdout",
     "output_type": "stream",
     "text": [
      "Train Epoch: 0 | Loss: 0.007740763947367668\n",
      "Train Epoch: 0 | Loss: 7.387585639953613\n",
      "Train Epoch: 0 | Loss: 0.056192196905612946\n",
      "Train Epoch: 0 | Loss: 1.3819118738174438\n",
      "Train Epoch: 0 | Loss: 0.021603059023618698\n",
      "Train Epoch: 0 | Loss: 0.022214312106370926\n",
      "Train Epoch: 0 | Loss: 0.024014201015233994\n",
      "Train Epoch: 0 | Loss: 0.025617457926273346\n",
      "Train Epoch: 0 | Loss: 0.027203582227230072\n",
      "Train Epoch: 0 | Loss: 0.028695933520793915\n",
      "Train Epoch: 0 | Loss: 0.03005155175924301\n",
      "Train Epoch: 0 | Loss: 0.03138356655836105\n",
      "Train Epoch: 0 | Loss: 3.522111654281616\n",
      "Train Epoch: 0 | Loss: 0.049866706132888794\n",
      "Train Epoch: 0 | Loss: 0.03516776114702225\n",
      "Train Epoch: 0 | Loss: 0.03639453649520874\n",
      "Train Epoch: 0 | Loss: 0.03753840923309326\n",
      "Train Epoch: 0 | Loss: 0.06353600323200226\n",
      "Train Epoch: 0 | Loss: 0.07384303957223892\n",
      "Test loss: tensor(0.2844, device='cuda:0')\n"
     ]
    }
   ],
   "source": [
    "for i in range(1):\n",
    "    train(model, train_data, train_labels, device, optimizer, i, 5000)\n",
    "    test(model, test_data, test_labels, device)\n",
    "    scheduler.step()"
   ]
  },
  {
   "cell_type": "code",
   "execution_count": 114,
   "metadata": {},
   "outputs": [
    {
     "data": {
      "text/plain": [
       "0.05606008329882872"
      ]
     },
     "execution_count": 114,
     "metadata": {},
     "output_type": "execute_result"
    }
   ],
   "source": [
    "from sklearn.linear_model import LinearRegression\n",
    "from sklearn.metrics import mean_absolute_error\n",
    "reg = LinearRegression().fit(train_data, train_labels)\n",
    "reg.score(train_data, train_labels)"
   ]
  },
  {
   "cell_type": "code",
   "execution_count": 115,
   "metadata": {},
   "outputs": [],
   "source": [
    "pred = reg.predict(test_data)"
   ]
  },
  {
   "cell_type": "code",
   "execution_count": null,
   "metadata": {},
   "outputs": [],
   "source": [
    "out = model(test_data.to(device).float())"
   ]
  },
  {
   "cell_type": "code",
   "execution_count": 120,
   "metadata": {},
   "outputs": [
    {
     "data": {
      "text/plain": [
       "0.39854032006137796"
      ]
     },
     "execution_count": 120,
     "metadata": {},
     "output_type": "execute_result"
    }
   ],
   "source": [
    "mean_absolute_error(pred, test_labels)"
   ]
  },
  {
   "cell_type": "code",
   "execution_count": 119,
   "metadata": {},
   "outputs": [
    {
     "name": "stdout",
     "output_type": "stream",
     "text": [
      "Test loss: tensor(0.2844, device='cuda:0')\n"
     ]
    }
   ],
   "source": [
    "# We see that our model is not perfect, but it does outperforms the basic linear regression\n",
    "test(model, test_data, test_labels, device)"
   ]
  }
 ],
 "metadata": {
  "kernelspec": {
   "display_name": "Python 3",
   "language": "python",
   "name": "python3"
  },
  "language_info": {
   "codemirror_mode": {
    "name": "ipython",
    "version": 3
   },
   "file_extension": ".py",
   "mimetype": "text/x-python",
   "name": "python",
   "nbconvert_exporter": "python",
   "pygments_lexer": "ipython3",
   "version": "3.7.6"
  }
 },
 "nbformat": 4,
 "nbformat_minor": 2
}
